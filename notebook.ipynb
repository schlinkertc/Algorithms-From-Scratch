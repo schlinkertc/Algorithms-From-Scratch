{
 "cells": [
  {
   "cell_type": "code",
   "execution_count": 1,
   "metadata": {},
   "outputs": [
    {
     "name": "stdout",
     "output_type": "stream",
     "text": [
      "Engine(sqlite://///Users/schlinkertc/code/MLB/mlb.db)\n"
     ]
    }
   ],
   "source": [
    "from sqlalchemy import create_engine\n",
    "import pandas as pd\n",
    "import os\n",
    "\n",
    "class MyDatabase:\n",
    "    # http://docs.sqlalchemy.org/en/latest/core/engines.html\n",
    "    \"\"\"\n",
    "    Custom class for instantiating a SQL Alchemy connection. Configured here for SQLite, but intended to be flexible.\n",
    "    Credit to Medium user Mahmud Ahsan:\n",
    "    https://medium.com/@mahmudahsan/how-to-use-python-sqlite3-using-sqlalchemy-158f9c54eb32\n",
    "    \"\"\"\n",
    "    DB_ENGINE = {\n",
    "       'sqlite': 'sqlite:////{DB}'\n",
    "    }\n",
    "\n",
    "    # Main DB Connection Ref Obj\n",
    "    db_engine = None\n",
    "    def __init__(self, dbtype, \n",
    "                 username='', password='', \n",
    "                 dbname='',path=os.getcwd()+'/'):\n",
    "        dbtype = dbtype.lower()\n",
    "        if dbtype in self.DB_ENGINE.keys():\n",
    "            engine_url = self.DB_ENGINE[dbtype].format(DB=path+dbname)\n",
    "            self.db_engine = create_engine(engine_url)\n",
    "            print(self.db_engine)\n",
    "            \n",
    "        else:\n",
    "            print(\"DBType is not found in DB_ENGINE\")\n",
    "            \n",
    "db = MyDatabase('sqlite',dbname='mlb.db',path=\"/Users/schlinkertc/code/MLB/\")\n"
   ]
  },
  {
   "cell_type": "code",
   "execution_count": 2,
   "metadata": {},
   "outputs": [
    {
     "data": {
      "text/plain": [
       "['actions',\n",
       " 'credits',\n",
       " 'game_batting_stats',\n",
       " 'game_pitching_stats',\n",
       " 'game_player_links',\n",
       " 'game_team_links',\n",
       " 'games',\n",
       " 'hit_data',\n",
       " 'matchups',\n",
       " 'pitch_data',\n",
       " 'pitches',\n",
       " 'players',\n",
       " 'plays',\n",
       " 'runners',\n",
       " 'team_records',\n",
       " 'teams',\n",
       " 'venues']"
      ]
     },
     "execution_count": 2,
     "metadata": {},
     "output_type": "execute_result"
    }
   ],
   "source": [
    "db.db_engine.table_names()"
   ]
  },
  {
   "cell_type": "code",
   "execution_count": 29,
   "metadata": {},
   "outputs": [],
   "source": [
    "d = pd.read_sql('select * from pitch_data limit 10',db.db_engine)\n",
    "p = pd.read_sql('select * from pitches limit 10',db.db_engine)"
   ]
  },
  {
   "cell_type": "markdown",
   "metadata": {},
   "source": [
    "Columns to choose from:"
   ]
  },
  {
   "cell_type": "code",
   "execution_count": 13,
   "metadata": {},
   "outputs": [
    {
     "data": {
      "text/plain": [
       "Index(['gamePk', 'atBatIndex', 'playEndTime', 'index', 'playId', 'pitchNumber',\n",
       "       'startTime', 'endTime', 'isPitch', 'type', 'details_description',\n",
       "       'details_code', 'details_ballColor', 'details_isInPlay',\n",
       "       'details_isStrike', 'details_isBall', 'details_hasReview',\n",
       "       'count_balls', 'count_strikes', 'details_call_code',\n",
       "       'details_call_description', 'pfxId', 'details_trailColor',\n",
       "       'details_type_code', 'details_type_description', 'details_fromCatcher',\n",
       "       'details_runnerGoing'],\n",
       "      dtype='object')"
      ]
     },
     "execution_count": 13,
     "metadata": {},
     "output_type": "execute_result"
    }
   ],
   "source": [
    "p.columns"
   ]
  },
  {
   "cell_type": "code",
   "execution_count": 14,
   "metadata": {},
   "outputs": [
    {
     "data": {
      "text/plain": [
       "Index(['gamePk', 'atBatIndex', 'playEndTime', 'index', 'pitchData_startSpeed',\n",
       "       'pitchData_endSpeed', 'pitchData_strikeZoneTop', 'pitchData_zone',\n",
       "       'pitchData_typeConfidence', 'pitchData_plateTime',\n",
       "       'pitchData_extension', 'pitchData_coordinates_aY',\n",
       "       'pitchData_coordinates_aZ', 'pitchData_coordinates_pfxX',\n",
       "       'pitchData_coordinates_pfxZ', 'pitchData_coordinates_pX',\n",
       "       'pitchData_coordinates_pZ', 'pitchData_coordinates_vX0',\n",
       "       'pitchData_coordinates_vY0', 'pitchData_coordinates_vZ0',\n",
       "       'pitchData_coordinates_x', 'pitchData_coordinates_y',\n",
       "       'pitchData_coordinates_x0', 'pitchData_coordinates_y0',\n",
       "       'pitchData_coordinates_z0', 'pitchData_coordinates_aX',\n",
       "       'pitchData_breaks_breakY', 'pitchData_breaks_spinRate',\n",
       "       'pitchData_breaks_spinDirection'],\n",
       "      dtype='object')"
      ]
     },
     "execution_count": 14,
     "metadata": {},
     "output_type": "execute_result"
    }
   ],
   "source": [
    "d.columns"
   ]
  },
  {
   "cell_type": "markdown",
   "metadata": {},
   "source": [
    "This is slow, how can we make it faster?"
   ]
  },
  {
   "cell_type": "code",
   "execution_count": 127,
   "metadata": {},
   "outputs": [],
   "source": [
    "stmt = \"\"\"\n",
    "SELECT \n",
    "    p.atBatIndex,\n",
    "    p.gamePk,\n",
    "    p.details_type_description,\n",
    "    d.pitchData_endSpeed,\n",
    "    p.pitchNumber,\n",
    "    plays.result_event,\n",
    "    p.details_isStrike,\n",
    "    m.pitcher_id,\n",
    "    m.batter_id,\n",
    "    p.count_strikes,\n",
    "    p.count_balls\n",
    "FROM \n",
    "    pitch_data d\n",
    "INNER JOIN \n",
    "    pitches p\n",
    "ON\n",
    "    p.gamePk=d.gamePk\n",
    "    AND\n",
    "    p.atBatIndex=d.atBatIndex\n",
    "    AND\n",
    "    p.`index`=d.`index`\n",
    "INNER JOIN \n",
    "    plays\n",
    "ON \n",
    "    plays.gamePk = p.gamePk\n",
    "    AND\n",
    "    plays.about_endTime=p.playEndTime\n",
    "INNER JOIN \n",
    "    matchups m\n",
    "    ON \n",
    "    m.gamePk=p.gamePk\n",
    "    AND \n",
    "    m.playEndTime=plays.about_endTime\n",
    "    AND\n",
    "    m.atBatIndex = plays.about_atBatIndex\n",
    "WHERE\n",
    "    p.isPitch == 1\n",
    "limit \n",
    "    1000\n",
    "\"\"\""
   ]
  },
  {
   "cell_type": "code",
   "execution_count": 128,
   "metadata": {},
   "outputs": [],
   "source": [
    "df = pd.read_sql(stmt,db.db_engine)"
   ]
  },
  {
   "cell_type": "code",
   "execution_count": 130,
   "metadata": {},
   "outputs": [
    {
     "data": {
      "text/html": [
       "<div>\n",
       "<style scoped>\n",
       "    .dataframe tbody tr th:only-of-type {\n",
       "        vertical-align: middle;\n",
       "    }\n",
       "\n",
       "    .dataframe tbody tr th {\n",
       "        vertical-align: top;\n",
       "    }\n",
       "\n",
       "    .dataframe thead th {\n",
       "        text-align: right;\n",
       "    }\n",
       "</style>\n",
       "<table border=\"1\" class=\"dataframe\">\n",
       "  <thead>\n",
       "    <tr style=\"text-align: right;\">\n",
       "      <th></th>\n",
       "      <th>atBatIndex</th>\n",
       "      <th>gamePk</th>\n",
       "      <th>details_type_description</th>\n",
       "      <th>pitchData_endSpeed</th>\n",
       "      <th>pitchNumber</th>\n",
       "      <th>result_event</th>\n",
       "      <th>details_isStrike</th>\n",
       "      <th>pitcher_id</th>\n",
       "      <th>batter_id</th>\n",
       "      <th>count_strikes</th>\n",
       "      <th>count_balls</th>\n",
       "    </tr>\n",
       "  </thead>\n",
       "  <tbody>\n",
       "    <tr>\n",
       "      <th>0</th>\n",
       "      <td>0</td>\n",
       "      <td>529870</td>\n",
       "      <td>Four-Seam Fastball</td>\n",
       "      <td>87.7</td>\n",
       "      <td>1</td>\n",
       "      <td>Strikeout</td>\n",
       "      <td>1</td>\n",
       "      <td>622864</td>\n",
       "      <td>434158</td>\n",
       "      <td>1</td>\n",
       "      <td>0</td>\n",
       "    </tr>\n",
       "    <tr>\n",
       "      <th>1</th>\n",
       "      <td>0</td>\n",
       "      <td>529870</td>\n",
       "      <td>Four-Seam Fastball</td>\n",
       "      <td>89.0</td>\n",
       "      <td>2</td>\n",
       "      <td>Strikeout</td>\n",
       "      <td>0</td>\n",
       "      <td>622864</td>\n",
       "      <td>434158</td>\n",
       "      <td>1</td>\n",
       "      <td>1</td>\n",
       "    </tr>\n",
       "    <tr>\n",
       "      <th>2</th>\n",
       "      <td>0</td>\n",
       "      <td>529870</td>\n",
       "      <td>Changeup</td>\n",
       "      <td>83.9</td>\n",
       "      <td>3</td>\n",
       "      <td>Strikeout</td>\n",
       "      <td>0</td>\n",
       "      <td>622864</td>\n",
       "      <td>434158</td>\n",
       "      <td>1</td>\n",
       "      <td>2</td>\n",
       "    </tr>\n",
       "    <tr>\n",
       "      <th>3</th>\n",
       "      <td>0</td>\n",
       "      <td>529870</td>\n",
       "      <td>Two-Seam Fastball</td>\n",
       "      <td>88.3</td>\n",
       "      <td>4</td>\n",
       "      <td>Strikeout</td>\n",
       "      <td>1</td>\n",
       "      <td>622864</td>\n",
       "      <td>434158</td>\n",
       "      <td>2</td>\n",
       "      <td>2</td>\n",
       "    </tr>\n",
       "    <tr>\n",
       "      <th>4</th>\n",
       "      <td>0</td>\n",
       "      <td>529870</td>\n",
       "      <td>Four-Seam Fastball</td>\n",
       "      <td>88.9</td>\n",
       "      <td>5</td>\n",
       "      <td>Strikeout</td>\n",
       "      <td>1</td>\n",
       "      <td>622864</td>\n",
       "      <td>434158</td>\n",
       "      <td>2</td>\n",
       "      <td>2</td>\n",
       "    </tr>\n",
       "    <tr>\n",
       "      <th>5</th>\n",
       "      <td>0</td>\n",
       "      <td>529870</td>\n",
       "      <td>Slider</td>\n",
       "      <td>81.8</td>\n",
       "      <td>6</td>\n",
       "      <td>Strikeout</td>\n",
       "      <td>1</td>\n",
       "      <td>622864</td>\n",
       "      <td>434158</td>\n",
       "      <td>3</td>\n",
       "      <td>2</td>\n",
       "    </tr>\n",
       "    <tr>\n",
       "      <th>6</th>\n",
       "      <td>1</td>\n",
       "      <td>529870</td>\n",
       "      <td>Four-Seam Fastball</td>\n",
       "      <td>88.2</td>\n",
       "      <td>1</td>\n",
       "      <td>Lineout</td>\n",
       "      <td>1</td>\n",
       "      <td>622864</td>\n",
       "      <td>606192</td>\n",
       "      <td>1</td>\n",
       "      <td>0</td>\n",
       "    </tr>\n",
       "    <tr>\n",
       "      <th>7</th>\n",
       "      <td>1</td>\n",
       "      <td>529870</td>\n",
       "      <td>Four-Seam Fastball</td>\n",
       "      <td>88.9</td>\n",
       "      <td>2</td>\n",
       "      <td>Lineout</td>\n",
       "      <td>1</td>\n",
       "      <td>622864</td>\n",
       "      <td>606192</td>\n",
       "      <td>2</td>\n",
       "      <td>0</td>\n",
       "    </tr>\n",
       "    <tr>\n",
       "      <th>8</th>\n",
       "      <td>1</td>\n",
       "      <td>529870</td>\n",
       "      <td>Four-Seam Fastball</td>\n",
       "      <td>89.4</td>\n",
       "      <td>3</td>\n",
       "      <td>Lineout</td>\n",
       "      <td>1</td>\n",
       "      <td>622864</td>\n",
       "      <td>606192</td>\n",
       "      <td>2</td>\n",
       "      <td>0</td>\n",
       "    </tr>\n",
       "    <tr>\n",
       "      <th>9</th>\n",
       "      <td>1</td>\n",
       "      <td>529870</td>\n",
       "      <td>Two-Seam Fastball</td>\n",
       "      <td>90.6</td>\n",
       "      <td>4</td>\n",
       "      <td>Lineout</td>\n",
       "      <td>0</td>\n",
       "      <td>622864</td>\n",
       "      <td>606192</td>\n",
       "      <td>2</td>\n",
       "      <td>1</td>\n",
       "    </tr>\n",
       "  </tbody>\n",
       "</table>\n",
       "</div>"
      ],
      "text/plain": [
       "   atBatIndex  gamePk details_type_description  pitchData_endSpeed  \\\n",
       "0           0  529870       Four-Seam Fastball                87.7   \n",
       "1           0  529870       Four-Seam Fastball                89.0   \n",
       "2           0  529870                 Changeup                83.9   \n",
       "3           0  529870        Two-Seam Fastball                88.3   \n",
       "4           0  529870       Four-Seam Fastball                88.9   \n",
       "5           0  529870                   Slider                81.8   \n",
       "6           1  529870       Four-Seam Fastball                88.2   \n",
       "7           1  529870       Four-Seam Fastball                88.9   \n",
       "8           1  529870       Four-Seam Fastball                89.4   \n",
       "9           1  529870        Two-Seam Fastball                90.6   \n",
       "\n",
       "   pitchNumber result_event  details_isStrike  pitcher_id  batter_id  \\\n",
       "0            1    Strikeout                 1      622864     434158   \n",
       "1            2    Strikeout                 0      622864     434158   \n",
       "2            3    Strikeout                 0      622864     434158   \n",
       "3            4    Strikeout                 1      622864     434158   \n",
       "4            5    Strikeout                 1      622864     434158   \n",
       "5            6    Strikeout                 1      622864     434158   \n",
       "6            1      Lineout                 1      622864     606192   \n",
       "7            2      Lineout                 1      622864     606192   \n",
       "8            3      Lineout                 1      622864     606192   \n",
       "9            4      Lineout                 0      622864     606192   \n",
       "\n",
       "   count_strikes  count_balls  \n",
       "0              1            0  \n",
       "1              1            1  \n",
       "2              1            2  \n",
       "3              2            2  \n",
       "4              2            2  \n",
       "5              3            2  \n",
       "6              1            0  \n",
       "7              2            0  \n",
       "8              2            0  \n",
       "9              2            1  "
      ]
     },
     "execution_count": 130,
     "metadata": {},
     "output_type": "execute_result"
    }
   ],
   "source": [
    "df.head(10)"
   ]
  },
  {
   "cell_type": "markdown",
   "metadata": {},
   "source": [
    "### Pitch type distribution\n",
    "Find the pitch types that particular pitcher throws. For the model, this will have to account for data leakage. I can only look at pitches thrown before the pitch in question"
   ]
  },
  {
   "cell_type": "code",
   "execution_count": 131,
   "metadata": {},
   "outputs": [],
   "source": [
    "stmt = \"\"\"\n",
    "SELECT\n",
    "    p.details_type_description as type,\n",
    "    count(p.details_type_description) as count\n",
    "FROM \n",
    "    pitches p\n",
    "INNER JOIN \n",
    "    plays\n",
    "ON \n",
    "    plays.gamePk = p.gamePk\n",
    "    AND\n",
    "    plays.about_endTime=p.playEndTime\n",
    "INNER JOIN \n",
    "    matchups m\n",
    "    ON \n",
    "    m.gamePk=p.gamePk\n",
    "    AND \n",
    "    m.playEndTime=plays.about_endTime\n",
    "    AND\n",
    "    m.atBatIndex = plays.about_atBatIndex\n",
    "WHERE\n",
    "    p.isPitch == 1\n",
    "    AND \n",
    "    m.pitcher_id == 622864\n",
    "GROUP BY \n",
    "    p.details_type_description\n",
    "LIMIT \n",
    "    100\n",
    "\"\"\""
   ]
  },
  {
   "cell_type": "code",
   "execution_count": 132,
   "metadata": {},
   "outputs": [
    {
     "data": {
      "text/plain": [
       "type\n",
       "Changeup               54\n",
       "Four-Seam Fastball     78\n",
       "Slider                148\n",
       "Two-Seam Fastball     273\n",
       "Name: count, dtype: object"
      ]
     },
     "execution_count": 132,
     "metadata": {},
     "output_type": "execute_result"
    }
   ],
   "source": [
    "pitch_types = pd.read_sql(stmt,db.db_engine)\n",
    "pitch_types.dropna(inplace=True)\n",
    "t = pitch_types.transpose()\n",
    "t.columns=t.loc['type']\n",
    "t.loc['count']"
   ]
  },
  {
   "cell_type": "code",
   "execution_count": null,
   "metadata": {},
   "outputs": [],
   "source": []
  }
 ],
 "metadata": {
  "kernelspec": {
   "display_name": "Python 3",
   "language": "python",
   "name": "python3"
  },
  "language_info": {
   "codemirror_mode": {
    "name": "ipython",
    "version": 3
   },
   "file_extension": ".py",
   "mimetype": "text/x-python",
   "name": "python",
   "nbconvert_exporter": "python",
   "pygments_lexer": "ipython3",
   "version": "3.7.3"
  }
 },
 "nbformat": 4,
 "nbformat_minor": 4
}
